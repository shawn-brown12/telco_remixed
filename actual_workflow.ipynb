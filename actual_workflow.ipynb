{
 "cells": [
  {
   "cell_type": "code",
   "execution_count": 1,
   "id": "1562c13f-762f-4705-bbff-7b4a555aad25",
   "metadata": {},
   "outputs": [],
   "source": [
    "import pandas as pd\n",
    "import numpy as np\n",
    "import matplotlib.pyplot as plt\n",
    "import seaborn as sns\n",
    "\n",
    "import os\n",
    "\n",
    "from scipy import stats\n",
    "\n",
    "import sklearn.model_selection\n",
    "import sklearn.metrics\n",
    "from sklearn.model_selection import train_test_split, cross_val_score, GridSearchCV\n",
    "from sklearn.metrics import make_scorer, recall_score, confusion_matrix, ConfusionMatrixDisplay, f1_score\n",
    "from sklearn.preprocessing import StandardScaler, RobustScaler, MinMaxScaler\n",
    "\n",
    "from xgboost import XGBClassifier\n",
    "\n",
    "import wrangle as wr\n",
    "import explore as ex\n",
    "import model as m\n",
    "\n",
    "import warnings\n",
    "warnings.filterwarnings('ignore')\n",
    "\n",
    "%matplotlib inline\n",
    "pd.options.display.max_columns = None"
   ]
  },
  {
   "cell_type": "markdown",
   "id": "151667a4-bb87-48d3-9381-3cff66aa2417",
   "metadata": {},
   "source": [
    "# Acquisition (Getting the data)"
   ]
  },
  {
   "cell_type": "code",
   "execution_count": 2,
   "id": "1633dcfb-3931-4eed-a4fd-ff5a8967caa6",
   "metadata": {},
   "outputs": [],
   "source": [
    "df, cat_cols, num_cols = wr.prep_telco_data()"
   ]
  },
  {
   "cell_type": "code",
   "execution_count": 3,
   "id": "c9aaf077-215d-478f-bacf-b364db39d89d",
   "metadata": {},
   "outputs": [
    {
     "data": {
      "text/html": [
       "<div>\n",
       "<style scoped>\n",
       "    .dataframe tbody tr th:only-of-type {\n",
       "        vertical-align: middle;\n",
       "    }\n",
       "\n",
       "    .dataframe tbody tr th {\n",
       "        vertical-align: top;\n",
       "    }\n",
       "\n",
       "    .dataframe thead th {\n",
       "        text-align: right;\n",
       "    }\n",
       "</style>\n",
       "<table border=\"1\" class=\"dataframe\">\n",
       "  <thead>\n",
       "    <tr style=\"text-align: right;\">\n",
       "      <th></th>\n",
       "      <th>gender</th>\n",
       "      <th>senior_citizen</th>\n",
       "      <th>partner</th>\n",
       "      <th>dependents</th>\n",
       "      <th>tenure</th>\n",
       "      <th>phone_service</th>\n",
       "      <th>multiple_lines</th>\n",
       "      <th>online_security</th>\n",
       "      <th>online_backup</th>\n",
       "      <th>device_protection</th>\n",
       "      <th>tech_support</th>\n",
       "      <th>streaming_tv</th>\n",
       "      <th>streaming_movies</th>\n",
       "      <th>paperless_billing</th>\n",
       "      <th>monthly_charges</th>\n",
       "      <th>total_charges</th>\n",
       "      <th>churn</th>\n",
       "      <th>contract_type</th>\n",
       "      <th>internet_service_type</th>\n",
       "      <th>payment_type</th>\n",
       "    </tr>\n",
       "  </thead>\n",
       "  <tbody>\n",
       "    <tr>\n",
       "      <th>0</th>\n",
       "      <td>1</td>\n",
       "      <td>No</td>\n",
       "      <td>Yes</td>\n",
       "      <td>Yes</td>\n",
       "      <td>63</td>\n",
       "      <td>No</td>\n",
       "      <td>No phone service</td>\n",
       "      <td>No</td>\n",
       "      <td>Yes</td>\n",
       "      <td>Yes</td>\n",
       "      <td>Yes</td>\n",
       "      <td>No</td>\n",
       "      <td>No</td>\n",
       "      <td>No</td>\n",
       "      <td>39.35</td>\n",
       "      <td>2395.05</td>\n",
       "      <td>0</td>\n",
       "      <td>Two year</td>\n",
       "      <td>DSL</td>\n",
       "      <td>auto</td>\n",
       "    </tr>\n",
       "    <tr>\n",
       "      <th>1</th>\n",
       "      <td>1</td>\n",
       "      <td>No</td>\n",
       "      <td>Yes</td>\n",
       "      <td>Yes</td>\n",
       "      <td>54</td>\n",
       "      <td>Yes</td>\n",
       "      <td>Yes</td>\n",
       "      <td>Yes</td>\n",
       "      <td>Yes</td>\n",
       "      <td>No</td>\n",
       "      <td>Yes</td>\n",
       "      <td>No</td>\n",
       "      <td>No</td>\n",
       "      <td>Yes</td>\n",
       "      <td>65.65</td>\n",
       "      <td>3566.70</td>\n",
       "      <td>0</td>\n",
       "      <td>Two year</td>\n",
       "      <td>DSL</td>\n",
       "      <td>auto</td>\n",
       "    </tr>\n",
       "    <tr>\n",
       "      <th>2</th>\n",
       "      <td>1</td>\n",
       "      <td>No</td>\n",
       "      <td>Yes</td>\n",
       "      <td>No</td>\n",
       "      <td>13</td>\n",
       "      <td>Yes</td>\n",
       "      <td>Yes</td>\n",
       "      <td>No</td>\n",
       "      <td>No</td>\n",
       "      <td>Yes</td>\n",
       "      <td>No</td>\n",
       "      <td>Yes</td>\n",
       "      <td>Yes</td>\n",
       "      <td>Yes</td>\n",
       "      <td>75.30</td>\n",
       "      <td>989.45</td>\n",
       "      <td>1</td>\n",
       "      <td>One year</td>\n",
       "      <td>DSL</td>\n",
       "      <td>manual</td>\n",
       "    </tr>\n",
       "    <tr>\n",
       "      <th>3</th>\n",
       "      <td>0</td>\n",
       "      <td>No</td>\n",
       "      <td>No</td>\n",
       "      <td>No</td>\n",
       "      <td>28</td>\n",
       "      <td>Yes</td>\n",
       "      <td>Yes</td>\n",
       "      <td>No</td>\n",
       "      <td>No</td>\n",
       "      <td>No</td>\n",
       "      <td>Yes</td>\n",
       "      <td>No</td>\n",
       "      <td>No</td>\n",
       "      <td>Yes</td>\n",
       "      <td>54.90</td>\n",
       "      <td>1505.15</td>\n",
       "      <td>0</td>\n",
       "      <td>Month-to-month</td>\n",
       "      <td>DSL</td>\n",
       "      <td>auto</td>\n",
       "    </tr>\n",
       "    <tr>\n",
       "      <th>4</th>\n",
       "      <td>0</td>\n",
       "      <td>No</td>\n",
       "      <td>Yes</td>\n",
       "      <td>No</td>\n",
       "      <td>40</td>\n",
       "      <td>Yes</td>\n",
       "      <td>Yes</td>\n",
       "      <td>No</td>\n",
       "      <td>Yes</td>\n",
       "      <td>No</td>\n",
       "      <td>No</td>\n",
       "      <td>Yes</td>\n",
       "      <td>No</td>\n",
       "      <td>No</td>\n",
       "      <td>63.90</td>\n",
       "      <td>2635.00</td>\n",
       "      <td>0</td>\n",
       "      <td>One year</td>\n",
       "      <td>DSL</td>\n",
       "      <td>auto</td>\n",
       "    </tr>\n",
       "  </tbody>\n",
       "</table>\n",
       "</div>"
      ],
      "text/plain": [
       "   gender senior_citizen partner dependents  tenure phone_service  \\\n",
       "0       1             No     Yes        Yes      63            No   \n",
       "1       1             No     Yes        Yes      54           Yes   \n",
       "2       1             No     Yes         No      13           Yes   \n",
       "3       0             No      No         No      28           Yes   \n",
       "4       0             No     Yes         No      40           Yes   \n",
       "\n",
       "     multiple_lines online_security online_backup device_protection  \\\n",
       "0  No phone service              No           Yes               Yes   \n",
       "1               Yes             Yes           Yes                No   \n",
       "2               Yes              No            No               Yes   \n",
       "3               Yes              No            No                No   \n",
       "4               Yes              No           Yes                No   \n",
       "\n",
       "  tech_support streaming_tv streaming_movies paperless_billing  \\\n",
       "0          Yes           No               No                No   \n",
       "1          Yes           No               No               Yes   \n",
       "2           No          Yes              Yes               Yes   \n",
       "3          Yes           No               No               Yes   \n",
       "4           No          Yes               No                No   \n",
       "\n",
       "   monthly_charges  total_charges  churn   contract_type  \\\n",
       "0            39.35        2395.05      0        Two year   \n",
       "1            65.65        3566.70      0        Two year   \n",
       "2            75.30         989.45      1        One year   \n",
       "3            54.90        1505.15      0  Month-to-month   \n",
       "4            63.90        2635.00      0        One year   \n",
       "\n",
       "  internet_service_type payment_type  \n",
       "0                   DSL         auto  \n",
       "1                   DSL         auto  \n",
       "2                   DSL       manual  \n",
       "3                   DSL         auto  \n",
       "4                   DSL         auto  "
      ]
     },
     "execution_count": 3,
     "metadata": {},
     "output_type": "execute_result"
    }
   ],
   "source": [
    "df.head()"
   ]
  },
  {
   "cell_type": "code",
   "execution_count": 4,
   "id": "d02815f4-c268-4fc4-bfa1-5c84e5329a55",
   "metadata": {},
   "outputs": [
    {
     "data": {
      "text/plain": [
       "(['senior_citizen',\n",
       "  'partner',\n",
       "  'dependents',\n",
       "  'phone_service',\n",
       "  'multiple_lines',\n",
       "  'online_security',\n",
       "  'online_backup',\n",
       "  'device_protection',\n",
       "  'tech_support',\n",
       "  'streaming_tv',\n",
       "  'streaming_movies',\n",
       "  'paperless_billing',\n",
       "  'contract_type',\n",
       "  'internet_service_type',\n",
       "  'payment_type'],\n",
       " ['tenure', 'monthly_charges', 'total_charges'])"
      ]
     },
     "execution_count": 4,
     "metadata": {},
     "output_type": "execute_result"
    }
   ],
   "source": [
    "cat_cols, num_cols"
   ]
  },
  {
   "cell_type": "markdown",
   "id": "8ec554ed-81d6-4ae7-a271-d73a7e1d852e",
   "metadata": {},
   "source": [
    "# Preparation (Preparing the data, all the way up to the train/val/test split)"
   ]
  },
  {
   "cell_type": "code",
   "execution_count": 5,
   "id": "a7f15bd4-181e-4af4-8249-8439b1dab191",
   "metadata": {},
   "outputs": [
    {
     "name": "stdout",
     "output_type": "stream",
     "text": [
      "(4219, 20) (1687, 20) (1126, 20)\n"
     ]
    }
   ],
   "source": [
    "train, validate, test = wr.df_splits(df, 'churn')"
   ]
  },
  {
   "cell_type": "markdown",
   "id": "64a9f07c-4c20-4280-80d3-6931146ae484",
   "metadata": {},
   "source": [
    "# Exploration and Preprocessing (visualizations, statistical tests, feature engineering, and feature selection)"
   ]
  },
  {
   "cell_type": "code",
   "execution_count": 6,
   "id": "8f50ce74-3bf6-4b89-8dc8-f2e9fe21f7df",
   "metadata": {},
   "outputs": [
    {
     "data": {
      "text/plain": [
       "['senior_citizen',\n",
       " 'partner',\n",
       " 'dependents',\n",
       " 'phone_service',\n",
       " 'multiple_lines',\n",
       " 'online_security',\n",
       " 'online_backup',\n",
       " 'device_protection',\n",
       " 'tech_support',\n",
       " 'streaming_tv',\n",
       " 'streaming_movies',\n",
       " 'paperless_billing',\n",
       " 'contract_type',\n",
       " 'internet_service_type',\n",
       " 'payment_type']"
      ]
     },
     "execution_count": 6,
     "metadata": {},
     "output_type": "execute_result"
    }
   ],
   "source": [
    "cat_cols"
   ]
  },
  {
   "cell_type": "code",
   "execution_count": null,
   "id": "ee018530-3aef-4946-bf06-4329714862fd",
   "metadata": {},
   "outputs": [],
   "source": []
  },
  {
   "cell_type": "code",
   "execution_count": null,
   "id": "c962b257-4086-4c62-a5eb-4f83fd59b14f",
   "metadata": {},
   "outputs": [],
   "source": []
  },
  {
   "cell_type": "markdown",
   "id": "e1a52c57-42d0-41e3-8b43-b26ba7951b98",
   "metadata": {
    "tags": []
   },
   "source": [
    "# Modeling"
   ]
  },
  {
   "cell_type": "code",
   "execution_count": null,
   "id": "4b77547e-5f0f-4f2e-bb88-c2d8cb33715b",
   "metadata": {},
   "outputs": [],
   "source": []
  },
  {
   "cell_type": "code",
   "execution_count": null,
   "id": "beee32b3-964f-4526-b991-3f70e4fc5c0d",
   "metadata": {},
   "outputs": [],
   "source": []
  },
  {
   "cell_type": "markdown",
   "id": "15d9ca4f-c9b1-4ccb-b212-9dcfdef63dd5",
   "metadata": {},
   "source": [
    "# Conclusions"
   ]
  },
  {
   "cell_type": "code",
   "execution_count": null,
   "id": "8c9e12a4-8d3d-4969-a244-7ed60d7d4dc1",
   "metadata": {},
   "outputs": [],
   "source": []
  }
 ],
 "metadata": {
  "kernelspec": {
   "display_name": "Python 3 (ipykernel)",
   "language": "python",
   "name": "python3"
  },
  "language_info": {
   "codemirror_mode": {
    "name": "ipython",
    "version": 3
   },
   "file_extension": ".py",
   "mimetype": "text/x-python",
   "name": "python",
   "nbconvert_exporter": "python",
   "pygments_lexer": "ipython3",
   "version": "3.10.9"
  }
 },
 "nbformat": 4,
 "nbformat_minor": 5
}
