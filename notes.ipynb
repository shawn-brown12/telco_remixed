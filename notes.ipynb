{
 "cells": [
  {
   "cell_type": "markdown",
   "id": "f490b26d-1c35-4065-a468-10f888bfe695",
   "metadata": {},
   "source": [
    "# Notes/code from past projects that could be useful to convert for this one"
   ]
  },
  {
   "cell_type": "markdown",
   "id": "d5975d26-e1e9-4094-9723-cb5cfa24a708",
   "metadata": {},
   "source": [
    "```python\n",
    "params = {'max_depth': [2, 3, 4],\n",
    "          'scale_pos_weight': [3,5,7],\n",
    "          'learning_rate' : [0.01, 0.1, 1],\n",
    "          'subsample' : [0.7, 0.8, 0.9],\n",
    "          'colsample_bytree' : [0.5, 0.6, 0.7]\n",
    "          }\n",
    "\n",
    "xgb_model = xgb.XGBClassifier()\n",
    "\n",
    "scorer = make_scorer(recall_score, average='macro')\n",
    "\n",
    "grid = GridSearchCV(xgb_model, params,cv= 2 , scoring= scorer,  verbose = 3)\n",
    "\n",
    "grid.fit(x_train_long, y_train)\n",
    "\n",
    "# Print the results\n",
    "print('Best params:', grid.best_params_)\n",
    "print('Best recall:', grid.best_score_)\n",
    "```"
   ]
  },
  {
   "cell_type": "code",
   "execution_count": null,
   "id": "563a6a67-57f9-45fe-b8a3-46c52e077d24",
   "metadata": {},
   "outputs": [],
   "source": []
  }
 ],
 "metadata": {
  "kernelspec": {
   "display_name": "Python 3 (ipykernel)",
   "language": "python",
   "name": "python3"
  },
  "language_info": {
   "codemirror_mode": {
    "name": "ipython",
    "version": 3
   },
   "file_extension": ".py",
   "mimetype": "text/x-python",
   "name": "python",
   "nbconvert_exporter": "python",
   "pygments_lexer": "ipython3",
   "version": "3.9.13"
  }
 },
 "nbformat": 4,
 "nbformat_minor": 5
}
